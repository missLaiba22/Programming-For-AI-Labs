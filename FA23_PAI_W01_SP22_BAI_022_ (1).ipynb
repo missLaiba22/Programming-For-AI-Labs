{
  "cells": [
    {
      "cell_type": "markdown",
      "metadata": {
        "id": "Chc-8_I5xhDb"
      },
      "source": [
        "* **Name**: Laiba Idrees\n",
        "* **Reg** **No.**: SP22-BAI-O22\n",
        "* **Section**: BAI-4A\n",
        "* **Course**: Programming for Artificial Intelligence"
      ]
    },
    {
      "cell_type": "markdown",
      "metadata": {
        "id": "9t1gKp9PL9eV"
      },
      "source": [
        "# Programming for Artificial Intelligence Lab 01"
      ]
    },
    {
      "cell_type": "markdown",
      "metadata": {
        "id": "IHfE7pyAxhDf"
      },
      "source": [
        "Python is a great general-purpose programming language on its own, but with the help of a few popular libraries (numpy, scipy, matplotlib) it becomes a powerful environment for scientific computing. Python is a high-level, dynamically typed multiparadigm programming language. Python code is often said to be almost like pseudocode, since it allows you to express very powerful ideas in very few lines of code while being very readable."
      ]
    },
    {
      "cell_type": "markdown",
      "metadata": {
        "id": "3Hs-_jR-xhDf"
      },
      "source": [
        "## Print statement"
      ]
    },
    {
      "cell_type": "code",
      "execution_count": null,
      "metadata": {
        "colab": {
          "base_uri": "https://localhost:8080/"
        },
        "id": "cYb0pjh1L9eb",
        "outputId": "2f14b64c-ed63-49d0-9867-c99aa542e1a6"
      },
      "outputs": [
        {
          "output_type": "stream",
          "name": "stdout",
          "text": [
            "This is my first hands-on in Python :)\n"
          ]
        }
      ],
      "source": [
        "print('This is my first hands-on in Python :)')"
      ]
    },
    {
      "cell_type": "code",
      "execution_count": null,
      "metadata": {
        "colab": {
          "base_uri": "https://localhost:8080/"
        },
        "id": "FlboVjEzxhDj",
        "outputId": "b83846a5-6d00-4ed6-bb04-ec1c54dcf6ca"
      },
      "outputs": [
        {
          "output_type": "stream",
          "name": "stdout",
          "text": [
            "This is my first hands-on in Python :)\n"
          ]
        }
      ],
      "source": [
        "print('This is my {} hands-on in {} :)'.format('first', 'Python'))"
      ]
    },
    {
      "cell_type": "markdown",
      "metadata": {
        "id": "7YC4PDKLxhDj"
      },
      "source": [
        "## User Input"
      ]
    },
    {
      "cell_type": "code",
      "execution_count": null,
      "metadata": {
        "colab": {
          "base_uri": "https://localhost:8080/"
        },
        "id": "ftMrItZzxhDk",
        "outputId": "168c92e5-5807-46d4-ef1a-51c37de289b1"
      },
      "outputs": [
        {
          "output_type": "stream",
          "name": "stdout",
          "text": [
            "Enter username:sp22-bai-022\n",
            "Username is: sp22-bai-022\n"
          ]
        }
      ],
      "source": [
        "name = input(\"Enter username:\")\n",
        "print(\"Username is: \" + name)"
      ]
    },
    {
      "cell_type": "code",
      "source": [
        "# Ask name and registration id from user and display it on screen\n",
        "#YOUR CODE HERE\n",
        "name = input(\"Enter name\")\n",
        "print(\"name is: \" + name)"
      ],
      "metadata": {
        "colab": {
          "base_uri": "https://localhost:8080/"
        },
        "id": "1R0wPngszGsI",
        "outputId": "f3d87c4e-2471-4a1b-d802-03b5739b47b8"
      },
      "execution_count": null,
      "outputs": [
        {
          "output_type": "stream",
          "name": "stdout",
          "text": [
            "Enter nameLaiba Idrees\n",
            "name is: Laiba Idrees\n"
          ]
        }
      ]
    },
    {
      "cell_type": "markdown",
      "metadata": {
        "id": "uvslyUVYxhDl"
      },
      "source": [
        "## Variables/Data types"
      ]
    },
    {
      "cell_type": "code",
      "execution_count": null,
      "metadata": {
        "id": "7IOZoGm8xhDl"
      },
      "outputs": [],
      "source": [
        "x = 1\n",
        "y = 3.5\n",
        "z = 'Programming'\n",
        "w = True"
      ]
    },
    {
      "cell_type": "code",
      "execution_count": null,
      "metadata": {
        "colab": {
          "base_uri": "https://localhost:8080/"
        },
        "id": "bN1oUMlIxhDm",
        "outputId": "5e1c1d59-3de9-4da9-fd2e-b35e1ae7209b"
      },
      "outputs": [
        {
          "output_type": "stream",
          "name": "stdout",
          "text": [
            "1 3.5 Programming True\n"
          ]
        }
      ],
      "source": [
        "print(x, y, z, w)"
      ]
    },
    {
      "cell_type": "code",
      "execution_count": null,
      "metadata": {
        "colab": {
          "base_uri": "https://localhost:8080/"
        },
        "id": "81cUq531xhDm",
        "outputId": "e022bdb0-2f0d-44fa-b0fc-ee530cdb2296"
      },
      "outputs": [
        {
          "output_type": "stream",
          "name": "stdout",
          "text": [
            "<class 'int'> <class 'float'> <class 'str'> <class 'bool'>\n"
          ]
        }
      ],
      "source": [
        "print(type(x), type(y), type(z), type(w))"
      ]
    },
    {
      "cell_type": "code",
      "source": [
        "#Initialize a variable with your name and print its type\n",
        "#YOUR CODE HERE\n",
        "Name = 'Laiba'\n",
        "print(Name)"
      ],
      "metadata": {
        "colab": {
          "base_uri": "https://localhost:8080/"
        },
        "id": "bsfTYl_Y0S7G",
        "outputId": "30644b8f-3f90-4991-b1cf-f601bf08a1dc"
      },
      "execution_count": null,
      "outputs": [
        {
          "output_type": "stream",
          "name": "stdout",
          "text": [
            "Laiba\n"
          ]
        }
      ]
    },
    {
      "cell_type": "markdown",
      "metadata": {
        "id": "wymePRpAxhDn"
      },
      "source": [
        "## Arithmetic Operators"
      ]
    },
    {
      "cell_type": "code",
      "execution_count": null,
      "metadata": {
        "colab": {
          "base_uri": "https://localhost:8080/",
          "height": 86
        },
        "id": "sk_8DFcuL9ey",
        "outputId": "dd60a271-3457-465d-e16a-41acf12a56ab"
      },
      "outputs": [
        {
          "name": "stdout",
          "output_type": "stream",
          "text": [
            "2\n",
            "0\n",
            "2\n",
            "0.5\n",
            "1\n"
          ]
        }
      ],
      "source": [
        "print(x + 1)   # Addition\n",
        "print(x - 1)   # Subtraction\n",
        "print(x * 2)   # Multiplication\n",
        "print(x / 2)  # Division\n",
        "print(x ** 2)  # Exponentiation"
      ]
    },
    {
      "cell_type": "code",
      "execution_count": null,
      "metadata": {
        "colab": {
          "base_uri": "https://localhost:8080/",
          "height": 52
        },
        "id": "U4Jl8K0tL9e4",
        "outputId": "07e3db14-3781-42b7-8ba6-042b3f9f72ba"
      },
      "outputs": [
        {
          "name": "stdout",
          "output_type": "stream",
          "text": [
            "2\n",
            "4\n"
          ]
        }
      ],
      "source": [
        "x += 1\n",
        "print(x)\n",
        "\n",
        "x *= 2\n",
        "print(x)"
      ]
    },
    {
      "cell_type": "markdown",
      "metadata": {
        "id": "V68SO97bxhDo"
      },
      "source": [
        "# Exercise\n",
        "Write a program to find circumference of a circle. The program should take radius input from user and display the circumference.\n",
        "circumference = 2πr (where PI is a constant value of 3.1415 and r is radius)\n",
        "\n",
        "Note: Declare PI as constant"
      ]
    },
    {
      "cell_type": "code",
      "source": [
        "#YOUR CODE HERE\n",
        "radius=eval(input(\"enter the radius of a circle: \"))\n",
        "pi=3.14\n",
        "circum=2*pi *radius\n",
        "print(\"Circum of circle: \"+str (circum))"
      ],
      "metadata": {
        "colab": {
          "base_uri": "https://localhost:8080/"
        },
        "id": "dZxnfi6w0_Uo",
        "outputId": "fac46bb9-7c58-427d-8cf7-73f07eca6dc6"
      },
      "execution_count": null,
      "outputs": [
        {
          "output_type": "stream",
          "name": "stdout",
          "text": [
            "enter the radius of a circle: 32\n",
            "Circum of circle: 200.96\n"
          ]
        }
      ]
    },
    {
      "cell_type": "markdown",
      "metadata": {
        "id": "YQgmQfOgL9fI"
      },
      "source": [
        "## Boolean Operators"
      ]
    },
    {
      "cell_type": "code",
      "execution_count": null,
      "metadata": {
        "id": "-K-TO0wkxhDq",
        "outputId": "58223057-21ad-487b-a812-de3f8eccebc2"
      },
      "outputs": [
        {
          "name": "stdout",
          "output_type": "stream",
          "text": [
            "False\n",
            "True\n",
            "False\n",
            "True\n"
          ]
        }
      ],
      "source": [
        "t, f = True, False\n",
        "\n",
        "print(t and f) # Logical AND\n",
        "print(t or f)  # Logical OR\n",
        "print(not t)   # Logical NOT\n",
        "print(t != f)  # Logical XOR"
      ]
    },
    {
      "cell_type": "markdown",
      "metadata": {
        "id": "UQnQWFEyL9fP"
      },
      "source": [
        "## Strings"
      ]
    },
    {
      "cell_type": "code",
      "execution_count": null,
      "metadata": {
        "colab": {
          "base_uri": "https://localhost:8080/"
        },
        "id": "AijEDtPFL9fP",
        "outputId": "d66ffcf0-3802-4924-ad7c-fa617e27ad3e"
      },
      "outputs": [
        {
          "output_type": "stream",
          "name": "stdout",
          "text": [
            "hello 5\n"
          ]
        }
      ],
      "source": [
        "hello = 'hello'   # String literals can use single quotes\n",
        "world = \"world\"   # or double quotes; it does not matter\n",
        "\n",
        "print(hello, len(hello)) #len=length"
      ]
    },
    {
      "cell_type": "code",
      "execution_count": null,
      "metadata": {
        "colab": {
          "base_uri": "https://localhost:8080/"
        },
        "id": "saDeaA7hL9fT",
        "outputId": "bbf1ced2-894c-46ee-ca5e-89ac69e06c1b"
      },
      "outputs": [
        {
          "output_type": "stream",
          "name": "stdout",
          "text": [
            "hello world\n"
          ]
        }
      ],
      "source": [
        "hw = hello + ' ' + world  # String concatenation\n",
        "print(hw)"
      ]
    },
    {
      "cell_type": "code",
      "execution_count": null,
      "metadata": {
        "colab": {
          "base_uri": "https://localhost:8080/"
        },
        "id": "Nji1_UjYL9fY",
        "outputId": "3b948d20-e184-446a-cb5e-5a0bae7274ad"
      },
      "outputs": [
        {
          "output_type": "stream",
          "name": "stdout",
          "text": [
            "hello world 12\n"
          ]
        }
      ],
      "source": [
        "hw12 = '{} {} {}'.format(hello, world, 12)  # string formatting\n",
        "print(hw12)"
      ]
    },
    {
      "cell_type": "markdown",
      "metadata": {
        "id": "bUpl35bIL9fc"
      },
      "source": [
        "String objects have a bunch of useful methods; for example:"
      ]
    },
    {
      "cell_type": "code",
      "execution_count": null,
      "metadata": {
        "colab": {
          "base_uri": "https://localhost:8080/",
          "height": 121
        },
        "id": "VOxGatlsL9fd",
        "outputId": "ab009df3-8643-4d3e-f85f-a813b70db9cb"
      },
      "outputs": [
        {
          "name": "stdout",
          "output_type": "stream",
          "text": [
            "Hello\n",
            "HELLO\n",
            "  hello\n",
            " hello \n",
            "heDDDDo\n",
            "world\n"
          ]
        }
      ],
      "source": [
        "s = \"hello\"\n",
        "print(s.capitalize())  # Capitalize a string\n",
        "print(s.upper())       # Convert a string to uppercase; prints \"HELLO\"\n",
        "print(s.rjust(7))      # Right-justify a string, padding with spaces\n",
        "print(s.center(7))     # Center a string, padding with spaces\n",
        "print(s.replace('l', 'DD'))  # Replace all instances of one substring with another\n",
        "print('  world '.strip())  # Strip leading and trailing whitespace"
      ]
    },
    {
      "cell_type": "markdown",
      "metadata": {
        "id": "06cayXLtL9fi"
      },
      "source": [
        "You can find a list of all string methods in the [documentation](https://docs.python.org/3.7/library/stdtypes.html#string-methods)."
      ]
    },
    {
      "cell_type": "code",
      "execution_count": null,
      "metadata": {
        "colab": {
          "base_uri": "https://localhost:8080/"
        },
        "id": "Xnujr17FxhDt",
        "outputId": "9cc7e259-b070-4b12-a6ad-c7bf770766e6"
      },
      "outputs": [
        {
          "output_type": "stream",
          "name": "stdout",
          "text": [
            "Laiba Aliza\n",
            "is my best friend, I will pay for his/her lunch today :D\n"
          ]
        }
      ],
      "source": [
        "#Initialize a variable with a person sitting next to you.\n",
        "#YOUR CODE HERE\n",
        "aliza= \"Aliza\"\n",
        "\n",
        "#Concatenate your name with it.\n",
        "#YOUR CODE HERE\n",
        "print (Name +' '+ aliza)\n",
        "\n",
        "#Replace the person's name with the sentence 'is my Best friend, I will pay for his/her lunch today :D'\n",
        "#YOUR CODE HERE\n",
        "print(aliza.replace('Aliza', 'is my best friend, I will pay for his/her lunch today :D'))"
      ]
    },
    {
      "cell_type": "markdown",
      "metadata": {
        "id": "vYFL0BTgxhDt"
      },
      "source": [
        "## Conditionals"
      ]
    },
    {
      "cell_type": "code",
      "execution_count": null,
      "metadata": {
        "colab": {
          "base_uri": "https://localhost:8080/"
        },
        "id": "6gptKiI-xhDu",
        "outputId": "b3623b07-61b8-44a0-fe92-ef2e212f55a6"
      },
      "outputs": [
        {
          "output_type": "stream",
          "name": "stdout",
          "text": [
            "positive\n"
          ]
        }
      ],
      "source": [
        "my_variable = 5\n",
        "\n",
        "if my_variable < 0:\n",
        "  print(\"negative\")\n",
        "elif my_variable == 0:\n",
        "  print(\"null\")\n",
        "else:\n",
        "  print(\"positive\")"
      ]
    },
    {
      "cell_type": "markdown",
      "metadata": {
        "id": "VLJ182fYxhDu"
      },
      "source": [
        "Here < and > are the strict less and greater than operators, while == is the equality operator (not to be confused with =, the variable assignment operator). The operators <= and >= can be used for less (resp. greater) than or equal comparisons."
      ]
    },
    {
      "cell_type": "markdown",
      "metadata": {
        "id": "UONpMhF4L9f_"
      },
      "source": [
        "## Loops"
      ]
    },
    {
      "cell_type": "markdown",
      "metadata": {
        "id": "tjcGNKZvxhDv"
      },
      "source": [
        "Loops are a way to execute a block of code multiple times. There are two main types of loops: while loops and for loops."
      ]
    },
    {
      "cell_type": "code",
      "execution_count": null,
      "metadata": {
        "id": "VplqR1rIxhDv",
        "outputId": "b2e564ae-e02b-4ba2-8f72-586bf3bca7f7"
      },
      "outputs": [
        {
          "name": "stdout",
          "output_type": "stream",
          "text": [
            "0\n",
            "1\n",
            "2\n",
            "3\n",
            "4\n",
            "5\n",
            "6\n"
          ]
        }
      ],
      "source": [
        "i = 0\n",
        "while i < len('Program'):\n",
        "  print(i)\n",
        "  i += 1 # equivalent to i = i + 1"
      ]
    },
    {
      "cell_type": "code",
      "execution_count": null,
      "metadata": {
        "colab": {
          "base_uri": "https://localhost:8080/",
          "height": 69
        },
        "id": "4cCOysfWL9gA",
        "outputId": "560e46c7-279c-409a-838c-64bea8d321c4"
      },
      "outputs": [
        {
          "name": "stdout",
          "output_type": "stream",
          "text": [
            "0\n",
            "1\n",
            "2\n",
            "3\n",
            "4\n",
            "5\n",
            "6\n"
          ]
        }
      ],
      "source": [
        "for i in range(len('Program')):\n",
        "  print(i)"
      ]
    },
    {
      "cell_type": "code",
      "execution_count": null,
      "metadata": {
        "id": "Ko8CI-xPxhDx",
        "outputId": "8618729f-c38f-4c33-aed0-f7844975b7c1"
      },
      "outputs": [
        {
          "name": "stdout",
          "output_type": "stream",
          "text": [
            "b\n",
            "a\n",
            "n\n",
            "a\n",
            "n\n",
            "a\n"
          ]
        }
      ],
      "source": [
        "for x in \"banana\":\n",
        "  print(x)"
      ]
    },
    {
      "cell_type": "markdown",
      "metadata": {
        "id": "AXA4jrEOL9hM"
      },
      "source": [
        "## Functions"
      ]
    },
    {
      "cell_type": "markdown",
      "metadata": {
        "id": "WaRms-QfL9hN"
      },
      "source": [
        "Python functions are defined using the `def` keyword. For example:"
      ]
    },
    {
      "cell_type": "code",
      "execution_count": null,
      "metadata": {
        "id": "kiMDUr58L9hN"
      },
      "outputs": [],
      "source": [
        "def sign(x):\n",
        "    if x > 0:\n",
        "        return 'positive'\n",
        "    elif x < 0:\n",
        "        return 'negative'\n",
        "    else:\n",
        "        return 'zero'"
      ]
    },
    {
      "cell_type": "code",
      "execution_count": null,
      "metadata": {
        "id": "qispgjNTxhDz",
        "outputId": "14f615bb-1c56-4436-a821-ff32df1ba421"
      },
      "outputs": [
        {
          "name": "stdout",
          "output_type": "stream",
          "text": [
            "negative\n"
          ]
        }
      ],
      "source": [
        "print(sign(-5))"
      ]
    },
    {
      "cell_type": "markdown",
      "metadata": {
        "id": "U-QJFt8TL9hR"
      },
      "source": [
        "We will often define functions to take optional keyword arguments, like this:"
      ]
    },
    {
      "cell_type": "code",
      "execution_count": null,
      "metadata": {
        "colab": {
          "base_uri": "https://localhost:8080/"
        },
        "id": "PfsZ3DazL9hR",
        "outputId": "46e43fa5-c11d-4c18-c827-18f4f80c2363"
      },
      "outputs": [
        {
          "output_type": "stream",
          "name": "stdout",
          "text": [
            "Hello, Ahmed!\n",
            "HELLO, MUHAMMAD!\n"
          ]
        }
      ],
      "source": [
        "def hello(name, loud=False):\n",
        "    if loud:\n",
        "        print('HELLO, {}'.format(name.upper()))\n",
        "    else:\n",
        "        print('Hello, {}!'.format(name))\n",
        "\n",
        "hello('Ahmed')\n",
        "hello('Muhammad!', loud=True)"
      ]
    },
    {
      "cell_type": "code",
      "execution_count": null,
      "metadata": {
        "colab": {
          "base_uri": "https://localhost:8080/"
        },
        "id": "eGNKXGp-xhD0",
        "outputId": "d69e164a-56c5-4db4-fa7c-b71a4ac23263"
      },
      "outputs": [
        {
          "output_type": "execute_result",
          "data": {
            "text/plain": [
              "36"
            ]
          },
          "metadata": {},
          "execution_count": 29
        }
      ],
      "source": [
        "def square(x):\n",
        "  return x ** 2\n",
        "\n",
        "def multiply(a, b):\n",
        "  return a * b\n",
        "\n",
        "# Functions can be composed.\n",
        "square(multiply(3, 2))"
      ]
    },
    {
      "cell_type": "markdown",
      "metadata": {
        "id": "MP2DgncCxhD0"
      },
      "source": [
        "# Exercise\n",
        "A university does not allow its student to sit in the exam if his/her\n",
        "attendance is less than 85% in any course/lab.\n",
        "\n",
        "Write a python program to ask a student about total number of classes\n",
        "scheduled by instructor during the whole semester and total number\n",
        "of classes he/she attended during the whole semester.\n",
        "\n",
        "Pass both values to a function named isAllowed() which should\n",
        "calculate and display the percentage of his/her attendance."
      ]
    },
    {
      "cell_type": "code",
      "execution_count": null,
      "metadata": {
        "id": "T8VdYUhhxhD0"
      },
      "outputs": [],
      "source": [
        "#YOUR CODE HERE\n"
      ]
    },
    {
      "cell_type": "code",
      "execution_count": null,
      "metadata": {
        "colab": {
          "base_uri": "https://localhost:8080/"
        },
        "id": "EXl3_IibxhD1",
        "outputId": "4be323fd-aeb3-4b6c-bd90-af778d5305bb"
      },
      "outputs": [
        {
          "name": "stdout",
          "output_type": "stream",
          "text": [
            "enter total numer of classes: 32\n",
            "enter attended numer of classes: 30\n"
          ]
        },
        {
          "output_type": "execute_result",
          "data": {
            "text/plain": [
              "93.75"
            ]
          },
          "metadata": {},
          "execution_count": 32
        }
      ],
      "source": [
        "total_class= eval(input(\"enter total numer of classes: \"))\n",
        "attened = eval(input(\"enter attended numer of classes: \"))\n",
        "def Allowed(total_class, attened):\n",
        "  per= (attened/total_class)*100\n",
        "  return per\n",
        "Allowed(total_class,attened)\n"
      ]
    },
    {
      "cell_type": "markdown",
      "source": [
        "##SOLVED ACTIVITIES\n",
        "# Activity # 01\n",
        "\n",
        "\n",
        "\n"
      ],
      "metadata": {
        "id": "sKLc4FyZ_7GR"
      }
    },
    {
      "cell_type": "code",
      "source": [
        "n=input(\"enter number: \")\n",
        "if int(n)% 2==0:\n",
        "  print(\"even number\")\n",
        "else:\n",
        "  print(\"odd number\")\n"
      ],
      "metadata": {
        "colab": {
          "base_uri": "https://localhost:8080/"
        },
        "id": "sjODzlJbAnjp",
        "outputId": "eedef891-5a13-45de-d2d1-6d26b3533b93"
      },
      "execution_count": null,
      "outputs": [
        {
          "output_type": "stream",
          "name": "stdout",
          "text": [
            "enter number: 3\n",
            "odd number\n"
          ]
        }
      ]
    },
    {
      "cell_type": "markdown",
      "source": [
        "# Activity # 02"
      ],
      "metadata": {
        "id": "y_fgXUNoCEXH"
      }
    },
    {
      "cell_type": "code",
      "source": [
        "sum=0\n",
        "s=input(\"Enter an integer value: \")\n",
        "n=int(s)\n",
        "while n!=0:\n",
        "  sum=sum+n\n",
        "  s=input(\"Enter an integer value: \")\n",
        "  n=int(s)\n",
        "print(\"sum of given values is: \", sum)"
      ],
      "metadata": {
        "colab": {
          "base_uri": "https://localhost:8080/"
        },
        "id": "6SkZNPwOCUOL",
        "outputId": "e86f5c56-18e0-463b-9e6e-964fc9f75b3f"
      },
      "execution_count": null,
      "outputs": [
        {
          "output_type": "stream",
          "name": "stdout",
          "text": [
            "Enter an integer value: 34\n",
            "Enter an integer value: 4\n",
            "Enter an integer value: 36\n",
            "Enter an integer value: 0\n",
            "sum of given values is:  74\n"
          ]
        }
      ]
    },
    {
      "cell_type": "markdown",
      "source": [
        "## Activity # 03"
      ],
      "metadata": {
        "id": "PWh6npCzDx6K"
      }
    },
    {
      "cell_type": "code",
      "source": [
        "isPrime=True\n",
        "i=2\n",
        "n=int(input(\"enter a number: \"))\n",
        "while i<n:\n",
        "  remainder=n%i\n",
        "  if remainder==0:\n",
        "    isPrime=False\n",
        "    break\n",
        "  else:\n",
        "    i=i+1\n",
        "if isPrime:\n",
        "  print(\"Number is Prime.\")\n",
        "else:\n",
        "  print(\"Number is not Prime.\")"
      ],
      "metadata": {
        "colab": {
          "base_uri": "https://localhost:8080/"
        },
        "id": "SqMcYDzWD42d",
        "outputId": "797234f5-d0d8-4f0d-e05c-f63ca6442067"
      },
      "execution_count": null,
      "outputs": [
        {
          "output_type": "stream",
          "name": "stdout",
          "text": [
            "enter a number: 3\n",
            "Number is Prime.\n"
          ]
        }
      ]
    },
    {
      "cell_type": "markdown",
      "source": [
        "# Activity # 04"
      ],
      "metadata": {
        "id": "6pKEtDBBFpyJ"
      }
    },
    {
      "cell_type": "code",
      "source": [
        "sum=0\n",
        "i=0\n",
        "while i<=4:\n",
        "  s=input(\"Enter a number\")\n",
        "  n=int(s)\n",
        "  sum=sum+n\n",
        "  i=i+1\n",
        "print(\"sum is \",sum)"
      ],
      "metadata": {
        "colab": {
          "base_uri": "https://localhost:8080/"
        },
        "id": "j4rdWZ26FvQZ",
        "outputId": "9c98cf1f-abed-4121-d1f2-18e4b0fc7d92"
      },
      "execution_count": null,
      "outputs": [
        {
          "output_type": "stream",
          "name": "stdout",
          "text": [
            "Enter a number1\n",
            "Enter a number2\n",
            "Enter a number3\n",
            "Enter a number5\n",
            "Enter a number4\n",
            "sum is  15\n"
          ]
        }
      ]
    },
    {
      "cell_type": "markdown",
      "source": [
        "# Activity # 05\n"
      ],
      "metadata": {
        "id": "NDUjpZUsGzav"
      }
    },
    {
      "cell_type": "code",
      "source": [
        "summation = 0\n",
        "i=1\n",
        "while i<=10:\n",
        "  summation=summation+i\n",
        "  i=i+1\n",
        "print(\"sum is: \",summation)"
      ],
      "metadata": {
        "id": "efF_SwiYG4F9",
        "colab": {
          "base_uri": "https://localhost:8080/"
        },
        "outputId": "08e7ebec-8170-4060-d382-c36d0f3dd9c0"
      },
      "execution_count": null,
      "outputs": [
        {
          "output_type": "stream",
          "name": "stdout",
          "text": [
            "sum is:  55\n"
          ]
        }
      ]
    },
    {
      "cell_type": "markdown",
      "source": [
        "# Activity # 06"
      ],
      "metadata": {
        "id": "yx1I5XgsgHa-"
      }
    },
    {
      "cell_type": "code",
      "source": [
        "food= input(\"what is your favourite food? \")\n",
        "print('my favourite food is '+ food)\n",
        "job=input(\"what is your job? \")\n",
        "print('my job is '+ job)\n",
        "num= input('give me a number? ')\n",
        "print('You said: '+str(num))"
      ],
      "metadata": {
        "colab": {
          "base_uri": "https://localhost:8080/"
        },
        "id": "tdBUD20kgRPk",
        "outputId": "50db605c-9f88-4069-ccd1-9abaa53a482a"
      },
      "execution_count": null,
      "outputs": [
        {
          "output_type": "stream",
          "name": "stdout",
          "text": [
            "what is your favourite food? bryani\n",
            "my favourite food is bryani\n",
            "what is your job? student\n",
            "my job is student\n",
            "give me a number? 1122\n",
            "You said: 1122\n"
          ]
        }
      ]
    },
    {
      "cell_type": "markdown",
      "source": [
        "# Activity # 07"
      ],
      "metadata": {
        "id": "Z5sFzHe7lOEx"
      }
    },
    {
      "cell_type": "code",
      "source": [
        "import random\n",
        "min=1\n",
        "max=9\n",
        "num=random.randint(min,max)\n",
        "guess=None\n",
        "other=None\n",
        "Try=0\n",
        "run=True\n",
        "print (\"Alright\")\n",
        "while run:\n",
        "  guess=input(\"What is your lucky number\")\n",
        "  if int(guess)<num:\n",
        "    print(\"Wrong, too low\")\n",
        "  elif int(guess)>num:\n",
        "    print(\"Wrong, too high\")\n",
        "  elif guess.lower()==\"exit\":\n",
        "    print(\"better luck next time\")\n",
        "  elif int(guess)==num:\n",
        "    print (\"yess that's the one,%s\"%str(num))\n",
        "    if Try<2:\n",
        "      print(\"impressive only,%s tries\"%str(Try))\n",
        "    elif Try>2 or Try<10:\n",
        "      print(\"pretty good,%s tries\"%str(Try))\n",
        "    else:\n",
        "      print(\"bad,%s tries\"%str(Try))\n",
        "    run=False\n",
        "  Try+=1\n",
        "\n"
      ],
      "metadata": {
        "colab": {
          "base_uri": "https://localhost:8080/"
        },
        "id": "zvn1HWiSlWDT",
        "outputId": "1f1f7636-2bdc-4819-a464-d9ba6fdfe31c"
      },
      "execution_count": null,
      "outputs": [
        {
          "output_type": "stream",
          "name": "stdout",
          "text": [
            "Alright\n",
            "What is your lucky number3\n",
            "Wrong, too low\n",
            "What is your lucky number6\n",
            "Wrong, too high\n",
            "What is your lucky number5\n",
            "Wrong, too high\n",
            "What is your lucky number4\n",
            "yess that's the one,4\n",
            "pretty good,3 tries\n"
          ]
        }
      ]
    },
    {
      "cell_type": "markdown",
      "source": [
        "# Lab Task 1"
      ],
      "metadata": {
        "id": "6UKGg_vGtfPV"
      }
    },
    {
      "cell_type": "code",
      "source": [
        "try:\n",
        "    # Prompt the user to enter an integer\n",
        "    user_input = input(\"Enter an integer: \")\n",
        "\n",
        "    # Convert the user input to an integer\n",
        "    num = int(user_input)\n",
        "\n",
        "    # Check if the input number is negative\n",
        "    is_negative = num < 0\n",
        "\n",
        "    # Convert the number to its absolute value for reversing digits\n",
        "    num = abs(num)\n",
        "\n",
        "    # Reverse the digits of the number\n",
        "    reversed_num = int(str(num)[::-1])\n",
        "\n",
        "    # If the original number was negative, make the reversed number negative\n",
        "    if is_negative:\n",
        "        reversed_num = -reversed_num\n",
        "\n",
        "    # Print the reversed number\n",
        "    print(f\"Reversed number: {reversed_num}\")\n",
        "\n",
        "except ValueError:\n",
        "    # Handle the case where the input is not a valid integer\n",
        "    print(\"Invalid input. Please enter a valid integer.\")\n"
      ],
      "metadata": {
        "colab": {
          "base_uri": "https://localhost:8080/"
        },
        "id": "E3W5UzeQtin3",
        "outputId": "e1bc6e9a-28ed-4843-c890-6b434fe5ea1c"
      },
      "execution_count": null,
      "outputs": [
        {
          "output_type": "stream",
          "name": "stdout",
          "text": [
            "Enter an integer: 23456\n",
            "Reversed number: 65432\n"
          ]
        }
      ]
    },
    {
      "cell_type": "markdown",
      "source": [
        "# Lab Task 2"
      ],
      "metadata": {
        "id": "44aEkphDtBDS"
      }
    },
    {
      "cell_type": "code",
      "source": [
        "# Initialize variables to store the sum of even and odd integers\n",
        "sum_even = 0\n",
        "sum_odd = 0\n",
        "\n",
        "try:\n",
        "    # Prompt the user to enter a list of integers separated by spaces\n",
        "    input_str = input(\"Enter a set of integers separated by spaces: \")\n",
        "\n",
        "    # Split the input string into a list of integers\n",
        "    integers = list(map(int, input_str.split()))\n",
        "\n",
        "    # Iterate through the list of integers\n",
        "    for num in integers:\n",
        "        # Check if the integer is even\n",
        "        if num % 2 == 0:\n",
        "            sum_even += num  # Add even integer to the sum_even\n",
        "        else:\n",
        "            sum_odd += num   # Add odd integer to the sum_odd\n",
        "\n",
        "    # Print the sum of even and odd integers\n",
        "    print(f\"Sum of even integers: {sum_even}\")\n",
        "    print(f\"Sum of odd integers: {sum_odd}\")\n",
        "\n",
        "except ValueError:\n",
        "    # Handle the case where the input is not a valid integer\n",
        "    print(\"Invalid input. Please enter a set of integers separated by spaces.\")\n"
      ],
      "metadata": {
        "colab": {
          "base_uri": "https://localhost:8080/"
        },
        "id": "HnlkFfOrtFIG",
        "outputId": "cab4aa3b-b442-4883-8b6b-5b12f3eea9a8"
      },
      "execution_count": null,
      "outputs": [
        {
          "output_type": "stream",
          "name": "stdout",
          "text": [
            "Enter a set of integers separated by spaces: 3 4 5 6 7 8 9\n",
            "Sum of even integers: 18\n",
            "Sum of odd integers: 24\n"
          ]
        }
      ]
    },
    {
      "cell_type": "markdown",
      "source": [
        "# Lab Task 3"
      ],
      "metadata": {
        "id": "KZSADzAks7Z3"
      }
    },
    {
      "cell_type": "code",
      "source": [
        "def Fibonacci ():\n",
        "  # Fibonacci function\n",
        "    A=eval(input('Enter an integer number that shows how many terms to be displayed of the Fibonacci series:>>> '))# taking input as integer\n",
        "  # first element of fibonacci series\n",
        "    n1=0\n",
        "  # second element of fibonacci series\n",
        "    n2=1\n",
        "  # pre defining the first 2 element of fibonacci series in a list\n",
        "    a=[0,1]\n",
        "  # print a statment\n",
        "    print(\"The Fibonacci series upto \"+str(A)+\"th term is as follows\")\n",
        "\n",
        "  # for loop with 2 less itration then the number of termes needed to be calculated\n",
        "    for i in range(1,A-1):\n",
        "        #process to find the next term in fibonacci series\n",
        "        S=n1+n2\n",
        "        n1=n2\n",
        "        n2=S\n",
        "  # storing the next term of fibonacci series in the list using append function\n",
        "        a.append(S)\n",
        "  # printing the elements of the list storing the fibonacci series\n",
        "    print(' '.join(map(str,a)))\n",
        "  # calling the Fibonacci function\n",
        "Fibonacci()"
      ],
      "metadata": {
        "colab": {
          "base_uri": "https://localhost:8080/"
        },
        "id": "VsMc0jihkg5x",
        "outputId": "bff741b8-405c-4225-a64f-062d4a742560"
      },
      "execution_count": 6,
      "outputs": [
        {
          "output_type": "stream",
          "name": "stdout",
          "text": [
            "Enter an integer number that shows how many terms to be displayed of the Fibonacci series:>>> 9\n",
            "The Fibonacci series upto 9th term is as follows\n",
            "0 1 1 2 3 5 8 13 21\n"
          ]
        }
      ]
    },
    {
      "cell_type": "markdown",
      "source": [
        "# Lab Task 5"
      ],
      "metadata": {
        "id": "phP8kGVOpkmi"
      }
    },
    {
      "cell_type": "code",
      "source": [
        "def factorial():# factorial function\n",
        "# int type variable to store the result of the factorial of given number\n",
        "    fact=1\n",
        "#Using eval to convert the input number as string to int before storing it in the variable\n",
        "    A=eval(input('Enter an integer number :>>> '))\n",
        "#for loop with itration equal to the number entered by the user\n",
        "    for i in range(1,A+1,1):\n",
        "# process to calculate the facturial over the corse of all the itration\n",
        "        fact=fact*i\n",
        "# Printing the result\n",
        "    print(\" the factorial of \"+str(A)+\" is \"+str(fact))\n",
        "# Calling factorial function\n",
        "factorial()"
      ],
      "metadata": {
        "colab": {
          "base_uri": "https://localhost:8080/"
        },
        "id": "MmYAQawHk8Vh",
        "outputId": "e063b1ac-1aff-475a-c686-105d9653c1b0"
      },
      "execution_count": null,
      "outputs": [
        {
          "output_type": "stream",
          "name": "stdout",
          "text": [
            "Enter an integer number :>>> 5\n",
            " the factorial of 5 is 120\n"
          ]
        }
      ]
    },
    {
      "cell_type": "markdown",
      "source": [
        "# Lab Task 4"
      ],
      "metadata": {
        "id": "iCDmOlY-soz2"
      }
    },
    {
      "cell_type": "code",
      "source": [
        "def grades():# grades function\n",
        "#list to store the marks of 100 student\n",
        "    a=[]\n",
        "#for loop with 100 itration to take input\n",
        "    for i in range(0,3):\n",
        "#Using eval to convert string to int before storing it in the list\n",
        "       A=eval(input('Enter the marks or student :>>> '))\n",
        "# appending in the list\n",
        "       a.append(A)\n",
        "#for loop with 100 itration to check the grade of individual marks entered by the user\n",
        "    for b in range(0,3):\n",
        "        # the following are the condition used with if else conditional structure to assign grades\n",
        "        if a[b] < 50:\n",
        "            print(str(a[b])+\" has a grade 'F'\")\n",
        "        elif a[b]<=60:\n",
        "             print(str(a[b])+\" has a grade 'E'\")\n",
        "        elif a[b]<=70:\n",
        "             print(str(a[b])+\" has a grade 'D'\")\n",
        "        elif a[b]<=80:\n",
        "             print(str(a[b])+\" has a grade 'C'\")\n",
        "        elif a[b]<=90:\n",
        "             print(str(a[b])+\" has a grade 'B'\")\n",
        "        elif a[b]<=100:\n",
        "             print(str(a[b])+\" has a grade 'A'\")\n",
        "\n",
        "grades()# calling grades function"
      ],
      "metadata": {
        "colab": {
          "base_uri": "https://localhost:8080/"
        },
        "id": "hecrUPF1lI_J",
        "outputId": "add741f8-08cf-4b5c-ef9b-f184cd0ce21c"
      },
      "execution_count": null,
      "outputs": [
        {
          "output_type": "stream",
          "name": "stdout",
          "text": [
            "Enter the marks or student :>>> 89\n",
            "Enter the marks or student :>>> 78\n",
            "Enter the marks or student :>>> 98\n",
            "89 has a grade 'B'\n",
            "78 has a grade 'C'\n",
            "98 has a grade 'A'\n"
          ]
        }
      ]
    }
  ],
  "metadata": {
    "colab": {
      "provenance": []
    },
    "kernelspec": {
      "display_name": "Python 3 (ipykernel)",
      "language": "python",
      "name": "python3"
    },
    "language_info": {
      "codemirror_mode": {
        "name": "ipython",
        "version": 3
      },
      "file_extension": ".py",
      "mimetype": "text/x-python",
      "name": "python",
      "nbconvert_exporter": "python",
      "pygments_lexer": "ipython3",
      "version": "3.9.12"
    }
  },
  "nbformat": 4,
  "nbformat_minor": 0
}